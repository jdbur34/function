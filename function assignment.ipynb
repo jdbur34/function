{
 "cells": [
  {
   "cell_type": "markdown",
   "id": "a33bcbfe-7bc4-4f8e-8c91-cad3fbcf0d86",
   "metadata": {},
   "source": [
    "Which keyword is used to create a function? Create a function to return a list of odd numbers in the\n",
    "range of 1 to 25.\n",
    "Def keyword is used to create a function \n"
   ]
  },
  {
   "cell_type": "code",
   "execution_count": 9,
   "id": "5c1a2561-9215-476d-be0c-cbaae003a5e4",
   "metadata": {},
   "outputs": [
    {
     "name": "stdout",
     "output_type": "stream",
     "text": [
      "[1, 3, 5, 7, 9, 11, 13, 15, 17, 19, 21, 23, 25]\n"
     ]
    }
   ],
   "source": [
    "def odd_number(n):\n",
    "    for i in range(1,n+1):\n",
    "        if i % 2 != 0:\n",
    "            yield i\n",
    "c = odd_number(25)\n",
    "l1 = []\n",
    "for j in c:\n",
    "    l1.append(j)\n",
    "print(l1)"
   ]
  },
  {
   "cell_type": "markdown",
   "id": "3f7048a0-a86d-4834-9119-ecc6df7b15be",
   "metadata": {},
   "source": [
    "Why *args and **kwargs is used in some functions? Create a function each for *args and **kwargs\n",
    "to demonstrate their use.\n",
    "*args passes variable number of non-keyworded arguments and on which operation of the tuple can be performed.\n",
    "**kwargs passes variable number of keyword arguments dictionary to function on which operation of a dictionary can be performed."
   ]
  },
  {
   "cell_type": "code",
   "execution_count": 3,
   "id": "5360504f-e0d9-469f-8b86-f6f4aa2176e0",
   "metadata": {},
   "outputs": [
    {
     "data": {
      "text/plain": [
       "(1,)"
      ]
     },
     "execution_count": 3,
     "metadata": {},
     "output_type": "execute_result"
    }
   ],
   "source": [
    "def test1(*args):\n",
    "    return args\n",
    "test1(1)"
   ]
  },
  {
   "cell_type": "code",
   "execution_count": 4,
   "id": "a107e760-2872-4fbb-9e86-7582be60a87b",
   "metadata": {},
   "outputs": [
    {
     "data": {
      "text/plain": [
       "{'a': 2, 'b': 5, 'c': [1, 2, 3, 4]}"
      ]
     },
     "execution_count": 4,
     "metadata": {},
     "output_type": "execute_result"
    }
   ],
   "source": [
    "def test2(**kwargs):\n",
    "    return kwargs\n",
    "test2(a=2,b=5,c=[1,2,3,4])"
   ]
  },
  {
   "cell_type": "markdown",
   "id": "a0b51e9b-0fad-4539-975e-026fef876f74",
   "metadata": {},
   "source": [
    "What is an iterator in python? Name the method used to initialise the iterator object and the method\n",
    "used for iteration. Use these methods to print the first five elements of the given list [2, 4, 6, 8, 10, 12, 14,\n",
    "16, 18, 20].\n",
    "itarator is an object in python which iterate over a list or tuple or sets \n",
    "iter() method is used to initialize the iterator object so that the instance of this object can be used for iterating.next() is used to iter a object one by one "
   ]
  },
  {
   "cell_type": "code",
   "execution_count": 32,
   "id": "2b5ce04f-fa44-4536-8d9d-17c2cb7f0e48",
   "metadata": {},
   "outputs": [
    {
     "name": "stdout",
     "output_type": "stream",
     "text": [
      "2\n",
      "4\n",
      "6\n",
      "8\n",
      "10\n"
     ]
    }
   ],
   "source": [
    "l1 = [2, 4, 6, 8, 10, 12, 14,16, 18, 20]\n",
    "l2 = iter(l1)\n",
    "n = 1\n",
    "while n <= 5:\n",
    "    print(next(l2))\n",
    "    n = n+1"
   ]
  },
  {
   "cell_type": "markdown",
   "id": "50fc7489-b0e9-4470-b407-a80424cef061",
   "metadata": {},
   "source": [
    "What is a generator function in python? Why yield keyword is used? Give an example of a generator\n",
    "function.\n",
    "Genarator function allows to iterate a object one by one \n",
    "Yield is used to return the object one by one after a specified genarator funtion is called "
   ]
  },
  {
   "cell_type": "code",
   "execution_count": 34,
   "id": "e8e8bfaf-6f9e-43d2-93e9-f4498d2ebad2",
   "metadata": {},
   "outputs": [
    {
     "name": "stdin",
     "output_type": "stream",
     "text": [
      " 4\n"
     ]
    },
    {
     "name": "stdout",
     "output_type": "stream",
     "text": [
      "01234\n"
     ]
    }
   ],
   "source": [
    "def count(n):\n",
    "    c = 0 \n",
    "    while c <= n:\n",
    "        yield c \n",
    "        c = c + 1\n",
    "a = int(input())\n",
    "c = count(a)\n",
    "l2 = []\n",
    "for i in c:\n",
    "    l2.append(i)\n",
    "print(*l2,sep='')"
   ]
  },
  {
   "cell_type": "markdown",
   "id": "cbe63c79-74ee-412d-87e9-e8bd44af7242",
   "metadata": {},
   "source": [
    "Create a generator function for prime numbers less than 1000. Use the next() method to print the\n",
    "first 20 prime numbers."
   ]
  },
  {
   "cell_type": "code",
   "execution_count": 36,
   "id": "81d3f2b2-74b2-4e67-8854-605e2ccce0fc",
   "metadata": {},
   "outputs": [
    {
     "name": "stdout",
     "output_type": "stream",
     "text": [
      "2 3 5 7 11 13 17 19 "
     ]
    }
   ],
   "source": [
    "\n",
    "def isPrime(n):\n",
    "\t\n",
    "\t\n",
    "\tif n <= 1 :\n",
    "\t\treturn False\n",
    "\n",
    "\t\n",
    "\tfor i in range(2, n):\n",
    "\t\tif n % i == 0:\n",
    "\t\t\treturn False\n",
    "\n",
    "\treturn True\n",
    "\n",
    "\n",
    "def printPrime(n):\n",
    "\tfor i in range(2, n + 1):\n",
    "\t\tif isPrime(i):\n",
    "\t\t\tprint(i, end = \" \")\n",
    "\n",
    "if __name__ == \"__main__\" :\n",
    "\tn = 20\n",
    "\t\n",
    "\tprintPrime(n)\n",
    "\t\n",
    "    "
   ]
  },
  {
   "cell_type": "markdown",
   "id": "e27e1c44-be65-4680-8742-a84868fe65b1",
   "metadata": {},
   "source": [
    "Write a python program to print the first 10 Fibonacci numbers using a while loop."
   ]
  },
  {
   "cell_type": "code",
   "execution_count": 4,
   "id": "7627be40-cc94-49c5-8f5a-6174c2377e81",
   "metadata": {},
   "outputs": [
    {
     "name": "stdout",
     "output_type": "stream",
     "text": [
      "[0, 1, 1, 2, 3, 5, 8, 13, 21, 34]\n"
     ]
    }
   ],
   "source": [
    "def fibo(l):\n",
    "    n = 0\n",
    "    a ,b = 0 ,1\n",
    "    while n < 10:\n",
    "        yield a\n",
    "        a,b = b , b+a\n",
    "        n = n + 1\n",
    "h = fibo(12)\n",
    "l1 = []\n",
    "for j in h:\n",
    "    l1.append(j)\n",
    "print(l1)"
   ]
  },
  {
   "cell_type": "markdown",
   "id": "7598533a-965f-450c-b0e8-46c0587c1550",
   "metadata": {},
   "source": [
    "Write a List Comprehension to iterate through the given string: ‘pwskills’.\n",
    "Expected output: ['p', 'w', 's', 'k', 'i', 'l', 'l', 's']"
   ]
  },
  {
   "cell_type": "code",
   "execution_count": 2,
   "id": "4479f3a3-a314-4e63-858b-dfab167adf33",
   "metadata": {},
   "outputs": [
    {
     "name": "stdout",
     "output_type": "stream",
     "text": [
      "['P', 'W', 'S', 'K', 'I', 'L', 'L', 'S']\n"
     ]
    }
   ],
   "source": [
    "l4 = []\n",
    "for i in \"PWSKILLS\":\n",
    "    l4.append(i)\n",
    "print(l4)    "
   ]
  },
  {
   "cell_type": "markdown",
   "id": "f541e2b3-209a-4aea-ab42-c01f2584aa91",
   "metadata": {},
   "source": [
    "Write a python program to check whether a given number is Palindrome or not using a while loop."
   ]
  },
  {
   "cell_type": "code",
   "execution_count": 6,
   "id": "774de7c5-6777-415d-b4c6-1bd710bcacdc",
   "metadata": {},
   "outputs": [
    {
     "name": "stdin",
     "output_type": "stream",
     "text": [
      " 33333\n"
     ]
    },
    {
     "name": "stdout",
     "output_type": "stream",
     "text": [
      "The number 33333 is palindrome\n"
     ]
    }
   ],
   "source": [
    "a = input()\n",
    "while str(a) == str(a)[::-1]:\n",
    "    print(\"The number \" + a + \" is palindrome\")\n",
    "    break\n",
    "else:\n",
    "    print(\"The number is not a palindrome\")"
   ]
  },
  {
   "cell_type": "markdown",
   "id": "d149b352-334b-425c-af3e-6e92ec20f675",
   "metadata": {},
   "source": [
    "Write a code to print odd numbers from 1 to 100 using list comprehension."
   ]
  },
  {
   "cell_type": "code",
   "execution_count": 16,
   "id": "ad07b73a-b38f-43ef-8651-ef787d092970",
   "metadata": {},
   "outputs": [
    {
     "data": {
      "text/plain": [
       "[1,\n",
       " 3,\n",
       " 5,\n",
       " 7,\n",
       " 9,\n",
       " 11,\n",
       " 13,\n",
       " 15,\n",
       " 17,\n",
       " 19,\n",
       " 21,\n",
       " 23,\n",
       " 25,\n",
       " 27,\n",
       " 29,\n",
       " 31,\n",
       " 33,\n",
       " 35,\n",
       " 37,\n",
       " 39,\n",
       " 41,\n",
       " 43,\n",
       " 45,\n",
       " 47,\n",
       " 49,\n",
       " 51,\n",
       " 53,\n",
       " 55,\n",
       " 57,\n",
       " 59,\n",
       " 61,\n",
       " 63,\n",
       " 65,\n",
       " 67,\n",
       " 69,\n",
       " 71,\n",
       " 73,\n",
       " 75,\n",
       " 77,\n",
       " 79,\n",
       " 81,\n",
       " 83,\n",
       " 85,\n",
       " 87,\n",
       " 89,\n",
       " 91,\n",
       " 93,\n",
       " 95,\n",
       " 97,\n",
       " 99]"
      ]
     },
     "execution_count": 16,
     "metadata": {},
     "output_type": "execute_result"
    }
   ],
   "source": [
    "x = range(101)\n",
    "l5 = []\n",
    "for i in x:\n",
    "    l5.append(i)\n",
    "list(filter(lambda x : x % 2 != 0, l5))"
   ]
  }
 ],
 "metadata": {
  "kernelspec": {
   "display_name": "Python 3 (ipykernel)",
   "language": "python",
   "name": "python3"
  },
  "language_info": {
   "codemirror_mode": {
    "name": "ipython",
    "version": 3
   },
   "file_extension": ".py",
   "mimetype": "text/x-python",
   "name": "python",
   "nbconvert_exporter": "python",
   "pygments_lexer": "ipython3",
   "version": "3.10.8"
  }
 },
 "nbformat": 4,
 "nbformat_minor": 5
}
